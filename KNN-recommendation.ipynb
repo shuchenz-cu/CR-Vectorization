{
 "cells": [
  {
   "cell_type": "code",
   "execution_count": 1,
   "metadata": {},
   "outputs": [],
   "source": [
    "# Importing packages\n",
    "import pandas as pd\n",
    "import numpy as np\n",
    "from sklearn.neighbors import NearestNeighbors"
   ]
  },
  {
   "cell_type": "code",
   "execution_count": 2,
   "metadata": {},
   "outputs": [],
   "source": [
    "# Loading dataset\n",
    "data = pd.read_csv('/Users/shuchenz/Desktop/Ops Con/ChangingRoom/Coding/Data/sample_data.csv', index_col='Code')\n",
    "feature_cols = data.drop(['In Stock', 'URL', 'Image URL', 'item_number', 'brand_code'], axis=1)\n",
    "X = feature_cols"
   ]
  },
  {
   "cell_type": "code",
   "execution_count": 3,
   "metadata": {},
   "outputs": [
    {
     "data": {
      "text/plain": [
       "NearestNeighbors(algorithm='brute', metric='cosine', n_neighbors=11)"
      ]
     },
     "execution_count": 3,
     "metadata": {},
     "output_type": "execute_result"
    }
   ],
   "source": [
    "X = pd.get_dummies(X)\n",
    "model = NearestNeighbors(n_neighbors=11,\n",
    "                         metric='cosine',\n",
    "                         algorithm='brute')\n",
    "model.fit(X) "
   ]
  },
  {
   "cell_type": "code",
   "execution_count": null,
   "metadata": {},
   "outputs": [],
   "source": [
    "#data[1,:]"
   ]
  },
  {
   "cell_type": "code",
   "execution_count": 14,
   "metadata": {},
   "outputs": [
    {
     "name": "stdout",
     "output_type": "stream",
     "text": [
      "Input product index is 10657\n"
     ]
    }
   ],
   "source": [
    "from random import randrange\n",
    "query_index = randrange(data.shape[0])\n",
    "print(\"Input product index is\", query_index)\n",
    "idx_ls = data[data['Category'] == data['Category'][query_index]].index\n",
    "#print(idx_ls)\n",
    "#print(X.loc[idx_ls])\n",
    "distances,indices= model.kneighbors(X.iloc[query_index,:].values.reshape(1,-1))\n"
   ]
  },
  {
   "cell_type": "code",
   "execution_count": 15,
   "metadata": {},
   "outputs": [
    {
     "name": "stdout",
     "output_type": "stream",
     "text": [
      "This is input item\n"
     ]
    },
    {
     "data": {
      "text/markdown": [
       "<img src=\"https://cdn.shopify.com/s/files/1/0384/0161/products/127684-2_20Louis_20Vuitton_20Sarah_20Wallet_20Monogram_20Vernis_2D_0002.jpg?v=1646077311\"  width='40%' height='30%'>"
      ],
      "text/plain": [
       "<IPython.core.display.Markdown object>"
      ]
     },
     "metadata": {},
     "output_type": "display_data"
    },
    {
     "name": "stdout",
     "output_type": "stream",
     "text": [
      "This is recommended item 1\n"
     ]
    },
    {
     "data": {
      "text/markdown": [
       "<img src=\"https://cdn.shopify.com/s/files/1/0384/0161/products/125373-1_20Louis_20Vuitton_20Sarah_20Wallet_20Monogram_20Vernis_2D_0002.jpg?v=1644585679\"  width='40%' height='30%'>"
      ],
      "text/plain": [
       "<IPython.core.display.Markdown object>"
      ]
     },
     "metadata": {},
     "output_type": "display_data"
    },
    {
     "name": "stdout",
     "output_type": "stream",
     "text": [
      "This is recommended item 2\n"
     ]
    },
    {
     "data": {
      "text/markdown": [
       "<img src=\"https://cdn.shopify.com/s/files/1/0384/0161/products/138020-1_20Louis_20Vuitton_20Sarah_20Wallet_20Monogram_20Verni_2D_0002.jpg?v=1649956877\"  width='40%' height='30%'>"
      ],
      "text/plain": [
       "<IPython.core.display.Markdown object>"
      ]
     },
     "metadata": {},
     "output_type": "display_data"
    },
    {
     "name": "stdout",
     "output_type": "stream",
     "text": [
      "This is recommended item 3\n"
     ]
    },
    {
     "data": {
      "text/markdown": [
       "<img src=\"https://cdn.shopify.com/s/files/1/0384/0161/products/141135-6_20Louis_20Vuitton_20Clemence_20Miroir_20Wallet_20Patent_2D_0002.jpg?v=1653677703\"  width='40%' height='30%'>"
      ],
      "text/plain": [
       "<IPython.core.display.Markdown object>"
      ]
     },
     "metadata": {},
     "output_type": "display_data"
    },
    {
     "name": "stdout",
     "output_type": "stream",
     "text": [
      "This is recommended item 4\n"
     ]
    },
    {
     "data": {
      "text/markdown": [
       "<img src=\"https://cdn.shopify.com/s/files/1/0384/0161/products/124545-1_20Bottega_20Veneta_20The_20Pouch_20Leather_20Medium_2D_0002.jpg?v=1644015028\"  width='40%' height='30%'>"
      ],
      "text/plain": [
       "<IPython.core.display.Markdown object>"
      ]
     },
     "metadata": {},
     "output_type": "display_data"
    },
    {
     "name": "stdout",
     "output_type": "stream",
     "text": [
      "This is recommended item 5\n"
     ]
    },
    {
     "data": {
      "text/markdown": [
       "<img src=\"https://cdn.shopify.com/s/files/1/0384/0161/products/150831-1_20Bottega_20Veneta_20BV_20Jodie_20Hobo_20Intrecciato_20Nappa_20Mini_2D_0002.jpg?v=1654287264\"  width='40%' height='30%'>"
      ],
      "text/plain": [
       "<IPython.core.display.Markdown object>"
      ]
     },
     "metadata": {},
     "output_type": "display_data"
    },
    {
     "name": "stdout",
     "output_type": "stream",
     "text": [
      "This is recommended item 6\n"
     ]
    },
    {
     "data": {
      "text/markdown": [
       "<img src=\"https://cdn.shopify.com/s/files/1/0384/0161/products/162265-1_20Louis_20Vuitton_20Zippy_20Wallet_20Limited_20Edition_20Crafty_20Monogram_20Empreinte_20Giant_2D_0002.jpg?v=1658510987\"  width='40%' height='30%'>"
      ],
      "text/plain": [
       "<IPython.core.display.Markdown object>"
      ]
     },
     "metadata": {},
     "output_type": "display_data"
    },
    {
     "name": "stdout",
     "output_type": "stream",
     "text": [
      "This is recommended item 7\n"
     ]
    },
    {
     "data": {
      "text/markdown": [
       "<img src=\"https://cdn.shopify.com/s/files/1/0384/0161/products/125959-2_20Louis_20Vuitton_20Sarah_20Wallet_20Monogram_20Verni_2D_0002.jpg?v=1644622047\"  width='40%' height='30%'>"
      ],
      "text/plain": [
       "<IPython.core.display.Markdown object>"
      ]
     },
     "metadata": {},
     "output_type": "display_data"
    },
    {
     "name": "stdout",
     "output_type": "stream",
     "text": [
      "This is recommended item 8\n"
     ]
    },
    {
     "data": {
      "text/markdown": [
       "<img src=\"https://cdn.shopify.com/s/files/1/0384/0161/products/131021-2_20Louis_20Vuitton_20Sarah_20Wallet_20Monogram_20Vernis_2D_0002.jpg?v=1646681926\"  width='40%' height='30%'>"
      ],
      "text/plain": [
       "<IPython.core.display.Markdown object>"
      ]
     },
     "metadata": {},
     "output_type": "display_data"
    },
    {
     "name": "stdout",
     "output_type": "stream",
     "text": [
      "This is recommended item 9\n"
     ]
    },
    {
     "data": {
      "text/markdown": [
       "<img src=\"https://cdn.shopify.com/s/files/1/0384/0161/products/136130-1_20Bottega_20Veneta_20The_20Chain_20Pouch_20Leather_2D_0002.jpg?v=1649092539\"  width='40%' height='30%'>"
      ],
      "text/plain": [
       "<IPython.core.display.Markdown object>"
      ]
     },
     "metadata": {},
     "output_type": "display_data"
    },
    {
     "name": "stdout",
     "output_type": "stream",
     "text": [
      "This is recommended item 10\n"
     ]
    },
    {
     "data": {
      "text/markdown": [
       "<img src=\"https://cdn.shopify.com/s/files/1/0384/0161/products/172963-1_20Louis_20Vuitton_20New_20Wave_20Camera_20Bag_20Quilted_20Leather_2D_0002.jpg?v=1663966160\"  width='40%' height='30%'>"
      ],
      "text/plain": [
       "<IPython.core.display.Markdown object>"
      ]
     },
     "metadata": {},
     "output_type": "display_data"
    }
   ],
   "source": [
    "\n",
    "from PIL import Image\n",
    "import requests\n",
    "from io import BytesIO\n",
    "\n",
    "img = [data['Image URL'][query_index]]\n",
    "for i in range(1,len(distances.flatten())):\n",
    "    url = data['Image URL'].iloc[indices.flatten()[i]]\n",
    "    img.append(url)\n",
    "\n",
    "from IPython.display import HTML, display, Markdown, Latex\n",
    "\n",
    "for i in range(len(img)):\n",
    "    #display(Markdown(\"![Item](\"+img[i]+\")\"))\n",
    "    if i!=0:\n",
    "        print('This is recommended item', i)\n",
    "    else:\n",
    "        print('This is input item')\n",
    "    display(Markdown(\"<img src=\\\"\"+img[i]+\"\\\"  width='40%' height='30%'>\"))"
   ]
  }
 ],
 "metadata": {
  "kernelspec": {
   "display_name": "Python 3.9.7 ('base')",
   "language": "python",
   "name": "python3"
  },
  "language_info": {
   "codemirror_mode": {
    "name": "ipython",
    "version": 3
   },
   "file_extension": ".py",
   "mimetype": "text/x-python",
   "name": "python",
   "nbconvert_exporter": "python",
   "pygments_lexer": "ipython3",
   "version": "3.9.7"
  },
  "orig_nbformat": 4,
  "vscode": {
   "interpreter": {
    "hash": "9e12243b3f95223ea6a17b0c20601135a14842524eec993e97c382f5e9f8f9e2"
   }
  }
 },
 "nbformat": 4,
 "nbformat_minor": 2
}

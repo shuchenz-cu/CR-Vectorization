{
 "cells": [
  {
   "cell_type": "code",
   "execution_count": 2,
   "metadata": {},
   "outputs": [
    {
     "name": "stderr",
     "output_type": "stream",
     "text": [
      "/var/folders/j3/njl9qzcj0lbb505pgvr7gsrh0000gn/T/ipykernel_6390/2955465551.py:2: DtypeWarning: Columns (16,17,18,19,20) have mixed types. Specify dtype option on import or set low_memory=False.\n",
      "  data = pd.read_csv('/Users/shuchenz/Desktop/Ops Con/ChangingRoom/Coding/Data/current_data.csv')\n"
     ]
    }
   ],
   "source": [
    "import pandas as pd\n",
    "data = pd.read_csv('/Users/shuchenz/Desktop/Ops Con/ChangingRoom/Coding/Data/current_data.csv')"
   ]
  },
  {
   "cell_type": "markdown",
   "metadata": {},
   "source": [
    "## Identify the columns"
   ]
  },
  {
   "cell_type": "code",
   "execution_count": null,
   "metadata": {},
   "outputs": [],
   "source": [
    "data.columns"
   ]
  },
  {
   "cell_type": "code",
   "execution_count": 3,
   "metadata": {},
   "outputs": [],
   "source": [
    "low_level = pd.unique(data['low_level'])\n",
    "high_level = pd.unique(data['high_level'])\n",
    "color = pd.unique(data['color'])"
   ]
  },
  {
   "cell_type": "code",
   "execution_count": null,
   "metadata": {},
   "outputs": [],
   "source": [
    "def slice_data_to_csv(colname, list, data):\n",
    "    for i in list:\n",
    "        data[data[colname] == i].to_csv(colname + i + \".csv\")"
   ]
  },
  {
   "cell_type": "code",
   "execution_count": 16,
   "metadata": {},
   "outputs": [
    {
     "name": "stdout",
     "output_type": "stream",
     "text": [
      "85\n"
     ]
    }
   ],
   "source": [
    "grouped = data.groupby(['low_level'])\n",
    "total_prop = pd.DataFrame(grouped.size(), columns = ['count'])\n",
    "total_prop['prop'] = round(total_prop['count'] / total_prop['count'].sum(), 2)\n",
    "\n",
    "data_sample = data.sample(n = 1000)\n",
    "sample_grouped = data_sample.groupby(['high_level'])\n",
    "sample_prop = pd.DataFrame(sample_grouped.size(), columns = ['count'])\n",
    "sample_prop['prop'] = round(sample_prop['count'] / sample_prop['count'].sum(), 2)"
   ]
  },
  {
   "cell_type": "code",
   "execution_count": 48,
   "metadata": {},
   "outputs": [
    {
     "data": {
      "text/html": [
       "<div>\n",
       "<style scoped>\n",
       "    .dataframe tbody tr th:only-of-type {\n",
       "        vertical-align: middle;\n",
       "    }\n",
       "\n",
       "    .dataframe tbody tr th {\n",
       "        vertical-align: top;\n",
       "    }\n",
       "\n",
       "    .dataframe thead th {\n",
       "        text-align: right;\n",
       "    }\n",
       "</style>\n",
       "<table border=\"1\" class=\"dataframe\">\n",
       "  <thead>\n",
       "    <tr style=\"text-align: right;\">\n",
       "      <th></th>\n",
       "      <th>count_x</th>\n",
       "      <th>prop_x</th>\n",
       "      <th>count_y</th>\n",
       "      <th>prop_y</th>\n",
       "    </tr>\n",
       "    <tr>\n",
       "      <th>high_level</th>\n",
       "      <th></th>\n",
       "      <th></th>\n",
       "      <th></th>\n",
       "      <th></th>\n",
       "    </tr>\n",
       "  </thead>\n",
       "  <tbody>\n",
       "    <tr>\n",
       "      <th>NAHWORK</th>\n",
       "      <td>38</td>\n",
       "      <td>0.04</td>\n",
       "      <td>44632</td>\n",
       "      <td>0.04</td>\n",
       "    </tr>\n",
       "    <tr>\n",
       "      <th>accessories</th>\n",
       "      <td>28</td>\n",
       "      <td>0.03</td>\n",
       "      <td>20960</td>\n",
       "      <td>0.02</td>\n",
       "    </tr>\n",
       "    <tr>\n",
       "      <th>bag</th>\n",
       "      <td>58</td>\n",
       "      <td>0.06</td>\n",
       "      <td>55713</td>\n",
       "      <td>0.05</td>\n",
       "    </tr>\n",
       "    <tr>\n",
       "      <th>business</th>\n",
       "      <td>2</td>\n",
       "      <td>0.00</td>\n",
       "      <td>1843</td>\n",
       "      <td>0.00</td>\n",
       "    </tr>\n",
       "    <tr>\n",
       "      <th>dresses</th>\n",
       "      <td>77</td>\n",
       "      <td>0.08</td>\n",
       "      <td>78890</td>\n",
       "      <td>0.07</td>\n",
       "    </tr>\n",
       "    <tr>\n",
       "      <th>headgear</th>\n",
       "      <td>2</td>\n",
       "      <td>0.00</td>\n",
       "      <td>1792</td>\n",
       "      <td>0.00</td>\n",
       "    </tr>\n",
       "    <tr>\n",
       "      <th>hoodies</th>\n",
       "      <td>1</td>\n",
       "      <td>0.00</td>\n",
       "      <td>2008</td>\n",
       "      <td>0.00</td>\n",
       "    </tr>\n",
       "    <tr>\n",
       "      <th>intimates</th>\n",
       "      <td>29</td>\n",
       "      <td>0.03</td>\n",
       "      <td>33553</td>\n",
       "      <td>0.03</td>\n",
       "    </tr>\n",
       "    <tr>\n",
       "      <th>jeans</th>\n",
       "      <td>86</td>\n",
       "      <td>0.09</td>\n",
       "      <td>70021</td>\n",
       "      <td>0.06</td>\n",
       "    </tr>\n",
       "    <tr>\n",
       "      <th>joggers</th>\n",
       "      <td>12</td>\n",
       "      <td>0.01</td>\n",
       "      <td>9715</td>\n",
       "      <td>0.01</td>\n",
       "    </tr>\n",
       "    <tr>\n",
       "      <th>onesie</th>\n",
       "      <td>20</td>\n",
       "      <td>0.02</td>\n",
       "      <td>18906</td>\n",
       "      <td>0.02</td>\n",
       "    </tr>\n",
       "    <tr>\n",
       "      <th>other</th>\n",
       "      <td>31</td>\n",
       "      <td>0.03</td>\n",
       "      <td>41021</td>\n",
       "      <td>0.04</td>\n",
       "    </tr>\n",
       "    <tr>\n",
       "      <th>outerwear</th>\n",
       "      <td>140</td>\n",
       "      <td>0.14</td>\n",
       "      <td>159962</td>\n",
       "      <td>0.15</td>\n",
       "    </tr>\n",
       "    <tr>\n",
       "      <th>pajamas</th>\n",
       "      <td>35</td>\n",
       "      <td>0.04</td>\n",
       "      <td>39242</td>\n",
       "      <td>0.04</td>\n",
       "    </tr>\n",
       "    <tr>\n",
       "      <th>pants</th>\n",
       "      <td>8</td>\n",
       "      <td>0.01</td>\n",
       "      <td>8079</td>\n",
       "      <td>0.01</td>\n",
       "    </tr>\n",
       "    <tr>\n",
       "      <th>rompers</th>\n",
       "      <td>58</td>\n",
       "      <td>0.06</td>\n",
       "      <td>59467</td>\n",
       "      <td>0.06</td>\n",
       "    </tr>\n",
       "    <tr>\n",
       "      <th>shirts</th>\n",
       "      <td>135</td>\n",
       "      <td>0.14</td>\n",
       "      <td>160137</td>\n",
       "      <td>0.15</td>\n",
       "    </tr>\n",
       "    <tr>\n",
       "      <th>shoes</th>\n",
       "      <td>100</td>\n",
       "      <td>0.10</td>\n",
       "      <td>96048</td>\n",
       "      <td>0.09</td>\n",
       "    </tr>\n",
       "    <tr>\n",
       "      <th>shorts</th>\n",
       "      <td>38</td>\n",
       "      <td>0.04</td>\n",
       "      <td>47252</td>\n",
       "      <td>0.04</td>\n",
       "    </tr>\n",
       "    <tr>\n",
       "      <th>skirts</th>\n",
       "      <td>24</td>\n",
       "      <td>0.02</td>\n",
       "      <td>29134</td>\n",
       "      <td>0.03</td>\n",
       "    </tr>\n",
       "    <tr>\n",
       "      <th>sweaters</th>\n",
       "      <td>34</td>\n",
       "      <td>0.03</td>\n",
       "      <td>51853</td>\n",
       "      <td>0.05</td>\n",
       "    </tr>\n",
       "    <tr>\n",
       "      <th>swimwear</th>\n",
       "      <td>44</td>\n",
       "      <td>0.04</td>\n",
       "      <td>48813</td>\n",
       "      <td>0.05</td>\n",
       "    </tr>\n",
       "  </tbody>\n",
       "</table>\n",
       "</div>"
      ],
      "text/plain": [
       "             count_x  prop_x  count_y  prop_y\n",
       "high_level                                   \n",
       "NAHWORK           38    0.04    44632    0.04\n",
       "accessories       28    0.03    20960    0.02\n",
       "bag               58    0.06    55713    0.05\n",
       "business           2    0.00     1843    0.00\n",
       "dresses           77    0.08    78890    0.07\n",
       "headgear           2    0.00     1792    0.00\n",
       "hoodies            1    0.00     2008    0.00\n",
       "intimates         29    0.03    33553    0.03\n",
       "jeans             86    0.09    70021    0.06\n",
       "joggers           12    0.01     9715    0.01\n",
       "onesie            20    0.02    18906    0.02\n",
       "other             31    0.03    41021    0.04\n",
       "outerwear        140    0.14   159962    0.15\n",
       "pajamas           35    0.04    39242    0.04\n",
       "pants              8    0.01     8079    0.01\n",
       "rompers           58    0.06    59467    0.06\n",
       "shirts           135    0.14   160137    0.15\n",
       "shoes            100    0.10    96048    0.09\n",
       "shorts            38    0.04    47252    0.04\n",
       "skirts            24    0.02    29134    0.03\n",
       "sweaters          34    0.03    51853    0.05\n",
       "swimwear          44    0.04    48813    0.05"
      ]
     },
     "execution_count": 48,
     "metadata": {},
     "output_type": "execute_result"
    }
   ],
   "source": [
    "total = pd.merge(sample_prop, total_prop, left_index=True, right_index=True).drop"
   ]
  },
  {
   "cell_type": "code",
   "execution_count": 49,
   "metadata": {},
   "outputs": [],
   "source": [
    "data_sample.to_csv('1000_sample1.csv')"
   ]
  }
 ],
 "metadata": {
  "kernelspec": {
   "display_name": "Python 3.9.7 ('base')",
   "language": "python",
   "name": "python3"
  },
  "language_info": {
   "codemirror_mode": {
    "name": "ipython",
    "version": 3
   },
   "file_extension": ".py",
   "mimetype": "text/x-python",
   "name": "python",
   "nbconvert_exporter": "python",
   "pygments_lexer": "ipython3",
   "version": "3.9.7"
  },
  "orig_nbformat": 4,
  "vscode": {
   "interpreter": {
    "hash": "9e12243b3f95223ea6a17b0c20601135a14842524eec993e97c382f5e9f8f9e2"
   }
  }
 },
 "nbformat": 4,
 "nbformat_minor": 2
}
